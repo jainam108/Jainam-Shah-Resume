{
 "cells": [
  {
   "cell_type": "markdown",
   "metadata": {},
   "source": [
    "# Resume\n",
    "## Name: Jainam Shah\n",
    "### Your Next Data Guy"
   ]
  },
  {
   "cell_type": "markdown",
   "metadata": {},
   "source": [
    "### Contacts\n",
    "#### Phone Number: +91 9429981087\n",
    "shah1jainam@gmail.com\n",
    "\n",
    "[LinkedIn](https://www.linkedin.com/in/jainam-1-shah/ \"Checkout my LinkedIn Profile\")\n",
    "\n",
    "[GitHub](https://github.com/jainam108 \"View my projects here\") View my projects on GitHub "
   ]
  },
  {
   "cell_type": "markdown",
   "metadata": {},
   "source": [
    "# Education"
   ]
  },
  {
   "cell_type": "code",
   "execution_count": 1,
   "metadata": {},
   "outputs": [
    {
     "data": {
      "text/html": [
       "<div>\n",
       "<style scoped>\n",
       "    .dataframe tbody tr th:only-of-type {\n",
       "        vertical-align: middle;\n",
       "    }\n",
       "\n",
       "    .dataframe tbody tr th {\n",
       "        vertical-align: top;\n",
       "    }\n",
       "\n",
       "    .dataframe thead th {\n",
       "        text-align: right;\n",
       "    }\n",
       "</style>\n",
       "<table border=\"1\" class=\"dataframe\">\n",
       "  <thead>\n",
       "    <tr style=\"text-align: right;\">\n",
       "      <th></th>\n",
       "      <th>Levels</th>\n",
       "      <th>Education</th>\n",
       "      <th>Degree</th>\n",
       "      <th>Field</th>\n",
       "      <th>CGPA/%</th>\n",
       "    </tr>\n",
       "  </thead>\n",
       "  <tbody>\n",
       "    <tr>\n",
       "      <th>0</th>\n",
       "      <td>College</td>\n",
       "      <td>Government Engineering College, Gandhinagar</td>\n",
       "      <td>Bachelor of Engineering</td>\n",
       "      <td>Instrumentation &amp; Control</td>\n",
       "      <td>8.3</td>\n",
       "    </tr>\n",
       "    <tr>\n",
       "      <th>1</th>\n",
       "      <td>School</td>\n",
       "      <td>Gujarat State Board</td>\n",
       "      <td>Higher Secondary Certificate</td>\n",
       "      <td>12th Class</td>\n",
       "      <td>75.07%</td>\n",
       "    </tr>\n",
       "    <tr>\n",
       "      <th>2</th>\n",
       "      <td>School</td>\n",
       "      <td>Gujarat State Board</td>\n",
       "      <td>Secondary School Certificate</td>\n",
       "      <td>10th Class</td>\n",
       "      <td>77.50%</td>\n",
       "    </tr>\n",
       "  </tbody>\n",
       "</table>\n",
       "</div>"
      ],
      "text/plain": [
       "    Levels                                    Education  \\\n",
       "0  College  Government Engineering College, Gandhinagar   \n",
       "1   School                          Gujarat State Board   \n",
       "2   School                          Gujarat State Board   \n",
       "\n",
       "                          Degree                       Field  CGPA/%  \n",
       "0        Bachelor of Engineering   Instrumentation & Control     8.3  \n",
       "1  Higher Secondary Certificate                   12th Class  75.07%  \n",
       "2  Secondary School Certificate                   10th Class  77.50%  "
      ]
     },
     "execution_count": 1,
     "metadata": {},
     "output_type": "execute_result"
    }
   ],
   "source": [
    "#Education\n",
    "import pandas as pd\n",
    "df = pd.read_csv(\"Education.csv\")\n",
    "df.head(4)"
   ]
  },
  {
   "cell_type": "code",
   "execution_count": 2,
   "metadata": {},
   "outputs": [
    {
     "data": {
      "text/html": [
       "<div>\n",
       "<style scoped>\n",
       "    .dataframe tbody tr th:only-of-type {\n",
       "        vertical-align: middle;\n",
       "    }\n",
       "\n",
       "    .dataframe tbody tr th {\n",
       "        vertical-align: top;\n",
       "    }\n",
       "\n",
       "    .dataframe thead th {\n",
       "        text-align: right;\n",
       "    }\n",
       "</style>\n",
       "<table border=\"1\" class=\"dataframe\">\n",
       "  <thead>\n",
       "    <tr style=\"text-align: right;\">\n",
       "      <th></th>\n",
       "      <th>Company</th>\n",
       "      <th>Role</th>\n",
       "      <th>Duration</th>\n",
       "    </tr>\n",
       "  </thead>\n",
       "  <tbody>\n",
       "    <tr>\n",
       "      <th>0</th>\n",
       "      <td>1stop.ai</td>\n",
       "      <td>Machine Learning Trainee</td>\n",
       "      <td>Apr 2021 - May 2021</td>\n",
       "    </tr>\n",
       "    <tr>\n",
       "      <th>1</th>\n",
       "      <td>The Sparks Foundation</td>\n",
       "      <td>Data Science &amp; Business Analytics Intern</td>\n",
       "      <td>Mar-21</td>\n",
       "    </tr>\n",
       "  </tbody>\n",
       "</table>\n",
       "</div>"
      ],
      "text/plain": [
       "                 Company                                      Role  \\\n",
       "0              1stop.ai                   Machine Learning Trainee   \n",
       "1  The Sparks Foundation  Data Science & Business Analytics Intern   \n",
       "\n",
       "              Duration  \n",
       "0  Apr 2021 - May 2021  \n",
       "1               Mar-21  "
      ]
     },
     "execution_count": 2,
     "metadata": {},
     "output_type": "execute_result"
    }
   ],
   "source": [
    "#Internships\n",
    "df1 = pd.read_csv(\"Internships.csv\")\n",
    "df1.head()\n",
    "#P.S: Please check next cell for a brief description of my Internships"
   ]
  },
  {
   "cell_type": "markdown",
   "metadata": {},
   "source": [
    "Brief description of my Internships.\n",
    "\n",
    "### 1) Machine Learning Training at 1stop.ai:\n",
    "\n",
    "Enrolled into Training for Machine Learning at 1stop.ai in association with E-Cell, Indian Institute of Technology, Kanpur\n",
    "\n",
    "Finished the provided module & tasks before two months of deadline.\n",
    "The Tasks:\n",
    "\n",
    "A) Gmail Spam Detection using Natural Language processing(NLP): Built a predictive model to predict whether a mail is spam or not. Achieved the accuracy of 87.5%.\n",
    "\n",
    "B) Diabetes Prediction using Machine Learning: Built a Classifier model which classifies whether a person has diabetes or not based on the parameters. Achieved the accuracy of 96.00% (Logistic Regression) and 88.00% (Random Forest & kNN).\n",
    "\n",
    "\n",
    "### 2) Data Science & Business Analytics Internship at The Sparks Foundation:\n",
    "\n",
    "Finished 5 tasks of Machine Learning & Data Analytics over a period on one month.\n",
    "\n",
    "The Tasks were based on Supervised & Unsupervised Machine Learning, Exploratory Data Analytics. Some of the tasks were:\n",
    "\n",
    "A) Exploratory Data Analytics in Defence: As a security/defense analyst, I analysed \"Global Terrorism\" Dataset where I found valuable insights about hot zone of terrorist activities & victims. \n",
    " \n",
    "B) Exploratory Data Analytics in Retail: As a business manager, I analysed the weak areas needed to improve to make more profit. \n",
    "\n",
    "C) IRIS Dataset for Unsupervised ML: Predicted the classes of the flowers based on given parameters such as Sepal width, length & Petal width, length. Algorithms used: k-Means Clustering & Decision Trees.\n"
   ]
  },
  {
   "cell_type": "markdown",
   "metadata": {},
   "source": [
    "# Other Projects"
   ]
  },
  {
   "cell_type": "markdown",
   "metadata": {},
   "source": [
    "### 1) Academic Project: Non-Invasive Glucometer - Healthcare Technology Domain\n",
    "Concept: Engineered a device which measures Blood Glucose levels in a pain-free manner instead of traditional finger pricking method.\n",
    "\n",
    "My responsibilities: Python code & Regression Analysis of Data Model (achieved accuracy over 96%).\n",
    "\n",
    "### 2) Census Income Prediction Project from Kaggle\n",
    "\n",
    "Built a model that predicts whether a person has an income above $50k. Used Random Forest (achieved accuracy of 85%) & Logistic Regression (achieved accuracy of 83%)."
   ]
  },
  {
   "cell_type": "markdown",
   "metadata": {},
   "source": [
    "# Roles of Responsibility"
   ]
  },
  {
   "cell_type": "code",
   "execution_count": 3,
   "metadata": {},
   "outputs": [
    {
     "name": "stdout",
     "output_type": "stream",
     "text": [
      "                               Role                Organization\n",
      "0  Founding Member & Vice President  GECG ISA Students' Chapter\n",
      "1       Volunteer/Senior Instructor              Invincible NGO\n"
     ]
    }
   ],
   "source": [
    "#Roles of Responsibility\n",
    "ror = {\n",
    "  'Role': [\"Founding Member & Vice President\", \"Volunteer/Senior Instructor\"],\n",
    "  'Organization': [\"GECG ISA Students' Chapter\", \"Invincible NGO\"]\n",
    "}\n",
    "print(pd.DataFrame(ror))\n",
    "#Please check next cell for a brief description of my Roles of Responsibility."
   ]
  },
  {
   "cell_type": "markdown",
   "metadata": {},
   "source": [
    "### Roles of Responsibility \n",
    "\n",
    "#### 1) Founding Member & Vice President at GECG International Society of Automation (ISA) Students' Chapter (Mar 2019 - Aug 2020)\n",
    "\n",
    "   • Took Initiative in establishing International Society of Automation (ISA) Students' Chapter in our college by core team\n",
    "      of 5 students and ended up leading whole chapter of 20 students.\n",
    "\n",
    "   • We have organised several events such as Industrial visit at Amul Chocolate factory at Anand, Seminars &\n",
    "      Webinars(in lockdown).\n",
    "    \n",
    "#### 2) Volunteer/Senior Instructor at Invincible NGO (Feb 2019 - Present)\n",
    "\n",
    "   • Volunteered at Invincible NGO as a Camp Instructor, where I managed average 75+ participants per camp, praised by\n",
    "      management for excellent service.\n",
    "   \n",
    "   • My responsibilities include managing finances(average ₹30k+ per camp) provided by the NGO, solving on-camp\n",
    "      problems of participants and oversee the camps I'm leading."
   ]
  },
  {
   "cell_type": "markdown",
   "metadata": {},
   "source": [
    "# Skills"
   ]
  },
  {
   "cell_type": "code",
   "execution_count": 4,
   "metadata": {},
   "outputs": [
    {
     "data": {
      "text/html": [
       "<div>\n",
       "<style scoped>\n",
       "    .dataframe tbody tr th:only-of-type {\n",
       "        vertical-align: middle;\n",
       "    }\n",
       "\n",
       "    .dataframe tbody tr th {\n",
       "        vertical-align: top;\n",
       "    }\n",
       "\n",
       "    .dataframe thead th {\n",
       "        text-align: right;\n",
       "    }\n",
       "</style>\n",
       "<table border=\"1\" class=\"dataframe\">\n",
       "  <thead>\n",
       "    <tr style=\"text-align: right;\">\n",
       "      <th></th>\n",
       "      <th>Skills</th>\n",
       "      <th>Skill level (%)</th>\n",
       "    </tr>\n",
       "  </thead>\n",
       "  <tbody>\n",
       "    <tr>\n",
       "      <th>0</th>\n",
       "      <td>Python</td>\n",
       "      <td>75</td>\n",
       "    </tr>\n",
       "    <tr>\n",
       "      <th>1</th>\n",
       "      <td>Data Quality Analysis</td>\n",
       "      <td>80</td>\n",
       "    </tr>\n",
       "    <tr>\n",
       "      <th>2</th>\n",
       "      <td>Data Cleaning</td>\n",
       "      <td>75</td>\n",
       "    </tr>\n",
       "    <tr>\n",
       "      <th>3</th>\n",
       "      <td>Data Visualization</td>\n",
       "      <td>90</td>\n",
       "    </tr>\n",
       "    <tr>\n",
       "      <th>4</th>\n",
       "      <td>Exploratory Data Analytics</td>\n",
       "      <td>90</td>\n",
       "    </tr>\n",
       "    <tr>\n",
       "      <th>5</th>\n",
       "      <td>Machine Learning</td>\n",
       "      <td>70</td>\n",
       "    </tr>\n",
       "    <tr>\n",
       "      <th>6</th>\n",
       "      <td>SQL (SQLite/MySQL)</td>\n",
       "      <td>60</td>\n",
       "    </tr>\n",
       "  </tbody>\n",
       "</table>\n",
       "</div>"
      ],
      "text/plain": [
       "                       Skills  Skill level (%)\n",
       "0                      Python               75\n",
       "1      Data Quality Analysis                80\n",
       "2               Data Cleaning               75\n",
       "3          Data Visualization               90\n",
       "4  Exploratory Data Analytics               90\n",
       "5           Machine Learning                70\n",
       "6          SQL (SQLite/MySQL)               60"
      ]
     },
     "execution_count": 4,
     "metadata": {},
     "output_type": "execute_result"
    }
   ],
   "source": [
    "#skills\n",
    "df2 = pd.read_csv(\"Skills.csv\")\n",
    "df2.head(7)"
   ]
  },
  {
   "cell_type": "markdown",
   "metadata": {},
   "source": [
    "#### Skill Visualization"
   ]
  },
  {
   "cell_type": "code",
   "execution_count": 5,
   "metadata": {},
   "outputs": [
    {
     "data": {
      "text/plain": [
       "Text(0, 0.5, 'skills')"
      ]
     },
     "execution_count": 5,
     "metadata": {},
     "output_type": "execute_result"
    },
    {
     "data": {
      "text/plain": [
       "<Figure size 720x1080 with 0 Axes>"
      ]
     },
     "metadata": {},
     "output_type": "display_data"
    },
    {
     "data": {
      "image/png": "[encoded data removed]",
      "text/plain": [
       "<Figure size 432x288 with 1 Axes>"
      ]
     },
     "metadata": {
      "needs_background": "light"
     },
     "output_type": "display_data"
    }
   ],
   "source": [
    "import matplotlib.pyplot as plt\n",
    "plt.figure(figsize= (10,15))\n",
    "df2.groupby('Skills')['Skill level (%)'].agg(['sum']).plot.barh()\n",
    "plt.xlabel(\"Skill level\")\n",
    "plt.ylabel(\"skills\")"
   ]
  },
  {
   "cell_type": "code",
   "execution_count": 6,
   "metadata": {},
   "outputs": [
    {
     "data": {
      "text/html": [
       "<div>\n",
       "<style scoped>\n",
       "    .dataframe tbody tr th:only-of-type {\n",
       "        vertical-align: middle;\n",
       "    }\n",
       "\n",
       "    .dataframe tbody tr th {\n",
       "        vertical-align: top;\n",
       "    }\n",
       "\n",
       "    .dataframe thead th {\n",
       "        text-align: right;\n",
       "    }\n",
       "</style>\n",
       "<table border=\"1\" class=\"dataframe\">\n",
       "  <thead>\n",
       "    <tr style=\"text-align: right;\">\n",
       "      <th></th>\n",
       "      <th>Python Libraries</th>\n",
       "      <th>Machine Learning Algorithms</th>\n",
       "      <th>Tools and Software</th>\n",
       "    </tr>\n",
       "  </thead>\n",
       "  <tbody>\n",
       "    <tr>\n",
       "      <th>0</th>\n",
       "      <td>Pandas</td>\n",
       "      <td>Linear Regression</td>\n",
       "      <td>Tableau</td>\n",
       "    </tr>\n",
       "    <tr>\n",
       "      <th>1</th>\n",
       "      <td>NumPy</td>\n",
       "      <td>Logistic Regression</td>\n",
       "      <td>MS Excel</td>\n",
       "    </tr>\n",
       "    <tr>\n",
       "      <th>2</th>\n",
       "      <td>Matplotlib</td>\n",
       "      <td>k-Means Clustering</td>\n",
       "      <td>MS Word</td>\n",
       "    </tr>\n",
       "    <tr>\n",
       "      <th>3</th>\n",
       "      <td>scikit-learn</td>\n",
       "      <td>k Nearest Neighbor</td>\n",
       "      <td>MS Powerpoint</td>\n",
       "    </tr>\n",
       "    <tr>\n",
       "      <th>4</th>\n",
       "      <td>NLTK</td>\n",
       "      <td>Decision Trees</td>\n",
       "      <td>Jupyter Notebook &amp; PyCharm</td>\n",
       "    </tr>\n",
       "    <tr>\n",
       "      <th>5</th>\n",
       "      <td>Seaborn</td>\n",
       "      <td>Random Forest</td>\n",
       "      <td>Google Sheets &amp; Google Slides</td>\n",
       "    </tr>\n",
       "  </tbody>\n",
       "</table>\n",
       "</div>"
      ],
      "text/plain": [
       "  Python Libraries Machine Learning Algorithms             Tools and Software\n",
       "0           Pandas           Linear Regression                        Tableau\n",
       "1            NumPy         Logistic Regression                       MS Excel\n",
       "2       Matplotlib          k-Means Clustering                        MS Word\n",
       "3     scikit-learn          k Nearest Neighbor                  MS Powerpoint\n",
       "4             NLTK              Decision Trees     Jupyter Notebook & PyCharm\n",
       "5          Seaborn               Random Forest  Google Sheets & Google Slides"
      ]
     },
     "execution_count": 6,
     "metadata": {},
     "output_type": "execute_result"
    }
   ],
   "source": [
    "df3 = pd.read_csv(\"skillset.csv\")\n",
    "df3.head(6)"
   ]
  },
  {
   "cell_type": "code",
   "execution_count": 7,
   "metadata": {},
   "outputs": [
    {
     "name": "stdout",
     "output_type": "stream",
     "text": [
      "['Soft skills: ' 'Analytical Skills' 'Leadership & Management'\n",
      " 'Written & Verbal Communication']\n"
     ]
    }
   ],
   "source": [
    "#Softskills\n",
    "import numpy as np\n",
    "ss = np.array([\"Soft skills: \", \"Analytical Skills\", \"Leadership & Management\", \"Written & Verbal Communication\"])\n",
    "print(ss)"
   ]
  },
  {
   "cell_type": "markdown",
   "metadata": {},
   "source": [
    "# Interests"
   ]
  },
  {
   "cell_type": "code",
   "execution_count": 8,
   "metadata": {},
   "outputs": [
    {
     "name": "stdout",
     "output_type": "stream",
     "text": [
      "['Tech Interests: Data Science & Analytics' 'Machine Learning']\n",
      "['Athletic & Creative Interests: Guitar' 'Badminton']\n",
      "I am a lead guitarist in a local band called 'Revival Music Crew'\n"
     ]
    }
   ],
   "source": [
    "#TECH INTERESTS:\n",
    "ti = np.array(['Tech Interests: ' \"Data Science & Analytics\", \"Machine Learning\"])\n",
    "#ATHLETIC & CREATIVE INTERESTS\n",
    "aci = np.array([\"Athletic & Creative Interests: \" \"Guitar\", \"Badminton\"])\n",
    "print(ti)\n",
    "print(aci)\n",
    "print(\"I am a lead guitarist in a local band called 'Revival Music Crew'\")"
   ]
  }
 ],
 "metadata": {
  "kernelspec": {
   "display_name": "Python 3",
   "language": "python",
   "name": "python3"
  },
  "language_info": {
   "codemirror_mode": {
    "name": "ipython",
    "version": 3
   },
   "file_extension": ".py",
   "mimetype": "text/x-python",
   "name": "python",
   "nbconvert_exporter": "python",
   "pygments_lexer": "ipython3",
   "version": "3.8.5"
  }
 },
 "nbformat": 4,
 "nbformat_minor": 4
}
